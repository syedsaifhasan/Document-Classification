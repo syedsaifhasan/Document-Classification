{
  "nbformat": 4,
  "nbformat_minor": 0,
  "metadata": {
    "colab": {
      "name": "Document Classification Code.ipynb",
      "provenance": [],
      "machine_shape": "hm",
      "include_colab_link": true
    },
    "kernelspec": {
      "name": "python3",
      "display_name": "Python 3"
    },
    "accelerator": "GPU"
  },
  "cells": [
    {
      "cell_type": "markdown",
      "metadata": {
        "id": "view-in-github",
        "colab_type": "text"
      },
      "source": [
        "<a href=\"https://colab.research.google.com/github/syedsaifhasan/Document-Classification/blob/master/Document_Classification_Code.ipynb\" target=\"_parent\"><img src=\"https://colab.research.google.com/assets/colab-badge.svg\" alt=\"Open In Colab\"/></a>"
      ]
    },
    {
      "cell_type": "markdown",
      "metadata": {
        "id": "DQKsm-88mtMH",
        "colab_type": "text"
      },
      "source": [
        "# Importing Libraries\n",
        "\n",
        "In this step, we imported and installed all the necessary libraries needed to perform Multi-Label Document Classification."
      ]
    },
    {
      "cell_type": "code",
      "metadata": {
        "id": "j_gE3PZXXwso",
        "colab_type": "code",
        "outputId": "31315997-7f2a-4408-a3ba-09bb5997b28b",
        "colab": {
          "base_uri": "https://localhost:8080/",
          "height": 199
        }
      },
      "source": [
        "# Load the Drive helper and mount\n",
        "from google.colab import drive\n",
        "drive.mount('/content/drive')\n",
        "\n",
        "import nltk\n",
        "nltk.download('stopwords')\n",
        "nltk.download('reuters')"
      ],
      "execution_count": 0,
      "outputs": [
        {
          "output_type": "stream",
          "text": [
            "Go to this URL in a browser: https://accounts.google.com/o/oauth2/auth?client_id=947318989803-6bn6qk8qdgf4n4g3pfee6491hc0brc4i.apps.googleusercontent.com&redirect_uri=urn%3aietf%3awg%3aoauth%3a2.0%3aoob&response_type=code&scope=email%20https%3a%2f%2fwww.googleapis.com%2fauth%2fdocs.test%20https%3a%2f%2fwww.googleapis.com%2fauth%2fdrive%20https%3a%2f%2fwww.googleapis.com%2fauth%2fdrive.photos.readonly%20https%3a%2f%2fwww.googleapis.com%2fauth%2fpeopleapi.readonly\n",
            "\n",
            "Enter your authorization code:\n",
            "··········\n",
            "Mounted at /content/drive\n",
            "[nltk_data] Downloading package stopwords to /root/nltk_data...\n",
            "[nltk_data]   Unzipping corpora/stopwords.zip.\n",
            "[nltk_data] Downloading package reuters to /root/nltk_data...\n"
          ],
          "name": "stdout"
        },
        {
          "output_type": "execute_result",
          "data": {
            "text/plain": [
              "True"
            ]
          },
          "metadata": {
            "tags": []
          },
          "execution_count": 1
        }
      ]
    },
    {
      "cell_type": "code",
      "metadata": {
        "id": "ST8UxgWKYAeE",
        "colab_type": "code",
        "outputId": "393c9e1e-a44a-441f-96ab-d91f5a9606f9",
        "colab": {
          "base_uri": "https://localhost:8080/",
          "height": 282
        }
      },
      "source": [
        "import os\n",
        "import sys\n",
        "import numpy as np\n",
        "\n",
        "from keras import regularizers\n",
        "from keras.preprocessing.text import Tokenizer\n",
        "from keras.preprocessing.sequence import pad_sequences\n",
        "from keras.utils import to_categorical\n",
        "from keras.layers import Dense, Input, GlobalMaxPooling1D, GlobalAveragePooling1D, GRU, MaxPooling1D\n",
        "from keras.layers import Conv1D, MaxPooling1D, Embedding\n",
        "from keras.models import Model, Input\n",
        "from keras.initializers import Constant\n",
        "from keras.models import Sequential\n",
        "from keras.layers import LSTM\n",
        "from keras.layers import Dropout\n",
        "from keras.layers import Activation\n",
        "from keras.layers import Flatten\n",
        "from keras.layers import average\n",
        "from nltk.corpus import reuters\n",
        "from nltk.corpus import stopwords\n",
        "from sklearn.preprocessing import MultiLabelBinarizer\n",
        "from sklearn.feature_extraction.text import TfidfVectorizer\n",
        "from yellowbrick.text import TSNEVisualizer\n",
        "from sklearn.metrics import f1_score, precision_score, recall_score, confusion_matrix\n",
        "from keras.metrics import categorical_accuracy, top_k_categorical_accuracy\n",
        "import matplotlib.pyplot as plt\n",
        "\n",
        "from keras import backend as K\n",
        "K.tensorflow_backend._get_available_gpus()\n",
        "\n",
        "import os\n",
        "os.environ['TF_CPP_MIN_LOG_LEVEL'] = '3'"
      ],
      "execution_count": 0,
      "outputs": [
        {
          "output_type": "stream",
          "text": [
            "Using TensorFlow backend.\n"
          ],
          "name": "stderr"
        },
        {
          "output_type": "display_data",
          "data": {
            "text/html": [
              "<p style=\"color: red;\">\n",
              "The default version of TensorFlow in Colab will switch to TensorFlow 2.x on the 27th of March, 2020.<br>\n",
              "We recommend you <a href=\"https://www.tensorflow.org/guide/migrate\" target=\"_blank\">upgrade</a> now\n",
              "or ensure your notebook will continue to use TensorFlow 1.x via the <code>%tensorflow_version 1.x</code> magic:\n",
              "<a href=\"https://colab.research.google.com/notebooks/tensorflow_version.ipynb\" target=\"_blank\">more info</a>.</p>\n"
            ],
            "text/plain": [
              "<IPython.core.display.HTML object>"
            ]
          },
          "metadata": {
            "tags": []
          }
        },
        {
          "output_type": "stream",
          "text": [
            "WARNING:tensorflow:From /usr/local/lib/python3.6/dist-packages/keras/backend/tensorflow_backend.py:190: The name tf.get_default_session is deprecated. Please use tf.compat.v1.get_default_session instead.\n",
            "\n",
            "WARNING:tensorflow:From /usr/local/lib/python3.6/dist-packages/keras/backend/tensorflow_backend.py:197: The name tf.ConfigProto is deprecated. Please use tf.compat.v1.ConfigProto instead.\n",
            "\n",
            "WARNING:tensorflow:From /usr/local/lib/python3.6/dist-packages/keras/backend/tensorflow_backend.py:203: The name tf.Session is deprecated. Please use tf.compat.v1.Session instead.\n",
            "\n"
          ],
          "name": "stdout"
        },
        {
          "output_type": "stream",
          "text": [
            "/usr/local/lib/python3.6/dist-packages/sklearn/utils/deprecation.py:144: FutureWarning: The sklearn.metrics.classification module is  deprecated in version 0.22 and will be removed in version 0.24. The corresponding classes / functions should instead be imported from sklearn.metrics. Anything that cannot be imported from sklearn.metrics is now part of the private API.\n",
            "  warnings.warn(message, FutureWarning)\n"
          ],
          "name": "stderr"
        },
        {
          "output_type": "stream",
          "text": [
            "WARNING:tensorflow:From /usr/local/lib/python3.6/dist-packages/keras/backend/tensorflow_backend.py:207: The name tf.global_variables is deprecated. Please use tf.compat.v1.global_variables instead.\n",
            "\n"
          ],
          "name": "stdout"
        }
      ]
    },
    {
      "cell_type": "markdown",
      "metadata": {
        "id": "TcH21lXXm35g",
        "colab_type": "text"
      },
      "source": [
        "# Initializing Parameters\n",
        "\n",
        "We initialied and defined the parameters of our document classifier in this step."
      ]
    },
    {
      "cell_type": "code",
      "metadata": {
        "id": "EJ97LDCnYJA0",
        "colab_type": "code",
        "colab": {}
      },
      "source": [
        "MAX_SEQUENCE_LENGTH = 1335\n",
        "MAX_NUM_WORDS = 1335\n",
        "EMBEDDING_DIM = 300\n",
        "\n",
        "subset = ['potato', 'rand', 'wpi', 'wheat', 'yen']\n",
        "\n",
        "n_classes = 90\n",
        "labels = reuters.categories()\n",
        "mlb = MultiLabelBinarizer(labels)"
      ],
      "execution_count": 0,
      "outputs": []
    },
    {
      "cell_type": "markdown",
      "metadata": {
        "id": "AFmPcdVDm-jb",
        "colab_type": "text"
      },
      "source": [
        "# Preparing the Dataset\n",
        "\n",
        "We created three subsets which are training, testing and validation sets. The validation set was prepared by splitting the training set in 9:1 ratio."
      ]
    },
    {
      "cell_type": "code",
      "metadata": {
        "id": "vtDRkpTcYJeB",
        "colab_type": "code",
        "outputId": "0361a34a-98df-4e05-be7b-f882c64cfa8d",
        "colab": {
          "base_uri": "https://localhost:8080/",
          "height": 89
        }
      },
      "source": [
        "# LOAD DATASET\n",
        "\n",
        "# Function to load dataset\n",
        "def load_set(set_name):\n",
        "  # Load Training Data\n",
        "  data_ids =  list(filter(lambda x: x.startswith(set_name), reuters.fileids()))\n",
        "  data = [reuters.raw(doc_id) for doc_id in data_ids]\n",
        "  labels = [reuters.categories(doc_id) for doc_id in data_ids]\n",
        "  return data, labels\n",
        "\n",
        "# Load Training Set and Labels\n",
        "train_data, train_labels = load_set('training/')\n",
        "\n",
        "# Load Validation Set and Labels\n",
        "split = round(len(train_data)*0.90)\n",
        "\n",
        "validation_data = train_data[split+1:]\n",
        "validation_labels = train_labels[split+1:]\n",
        "\n",
        "train_data = train_data[:split]\n",
        "train_labels = train_labels[:split]\n",
        "\n",
        "# Load Testing Set and Labels\n",
        "test_data, test_labels = load_set('test/')\n",
        "\n",
        "print ('Dataset Loaded...')\n",
        "print ('Training Data: {} Samples, {} Labels'.format(len(train_data), len(train_labels)))\n",
        "print ('Validation Data: {} Samples, {} Labels'.format(len(validation_data), len(validation_labels)))\n",
        "print ('Testing Data: {} Samples, {} Labels'.format(len(test_data), len(test_labels)))"
      ],
      "execution_count": 0,
      "outputs": [
        {
          "output_type": "stream",
          "text": [
            "Dataset Loaded...\n",
            "Training Data: 6992 Samples, 6992 Labels\n",
            "Validation Data: 776 Samples, 776 Labels\n",
            "Testing Data: 3019 Samples, 3019 Labels\n"
          ],
          "name": "stdout"
        }
      ]
    },
    {
      "cell_type": "markdown",
      "metadata": {
        "id": "6qa8KRofnhVS",
        "colab_type": "text"
      },
      "source": [
        "The subsets were transformed into their respective encodings and their dictionaries were also created."
      ]
    },
    {
      "cell_type": "code",
      "metadata": {
        "id": "ko8zeMvPlb1n",
        "colab_type": "code",
        "outputId": "605b25c1-e7f4-4f41-ac63-4a7193505e51",
        "colab": {
          "base_uri": "https://localhost:8080/",
          "height": 197
        }
      },
      "source": [
        "# ENCODE TEXT AND LABELS\n",
        "\n",
        "print('Encoding Data....')\n",
        "\n",
        "def encode(data, labels, tokenizer=None):\n",
        "  # Encode Text\n",
        "  tokenizer = Tokenizer(num_words=MAX_NUM_WORDS)\n",
        "  tokenizer.fit_on_texts(data)\n",
        "  sequences = tokenizer.texts_to_sequences(data)\n",
        "  data = pad_sequences(sequences, maxlen=MAX_SEQUENCE_LENGTH)\n",
        "  # Encode Labels\n",
        "  labels = mlb.fit_transform(labels)\n",
        "  # Create Dictsizeionary\n",
        "  dictionary = tokenizer.word_index\n",
        "  return data, labels, dictionary\n",
        "\n",
        "# FETCH DATA, LABELS, DICTIONARIES\n",
        "train_data, train_labels, train_dictionary = encode(train_data, train_labels)\n",
        "validation_data, validation_labels, validation_dictionary = encode(validation_data, validation_labels)\n",
        "test_data, test_labels, test_dictionary = encode(test_data, test_labels)\n",
        "\n",
        "actual = test_labels\n",
        "\n",
        "print (\"Data Encoded...\\n\")\n",
        "\n",
        "print (\"Dictionaries Loaded...\")\n",
        "print ('Training Dictionary: {} Words'.format(len(train_dictionary)))\n",
        "print ('Validation Dictionary: {} Words'.format(len(validation_dictionary)))\n",
        "print ('Testing Dictionary: {} Words'.format(len(test_dictionary)))"
      ],
      "execution_count": 0,
      "outputs": [
        {
          "output_type": "stream",
          "text": [
            "Encoding Data....\n",
            "(6992, 1335) (6992, 90)\n",
            "(3019, 1335) (3019, 90)\n",
            "(776, 1335) (776, 90)\n",
            "Data Encoded...\n",
            "\n",
            "Dictionaries Loaded...\n",
            "Training Dictionary: 26351 Words\n",
            "Validation Dictionary: 8918 Words\n",
            "Testing Dictionary: 17774 Words\n"
          ],
          "name": "stdout"
        }
      ]
    },
    {
      "cell_type": "markdown",
      "metadata": {
        "id": "0FyWMkyznsxO",
        "colab_type": "text"
      },
      "source": [
        "# Creating Embedding Matrix\n",
        "\n",
        "We loaded both the word embedding models and created their large emdbedding matrices of all the words present in the model."
      ]
    },
    {
      "cell_type": "code",
      "metadata": {
        "id": "5T55wJv0YJgm",
        "colab_type": "code",
        "outputId": "9ea85a6c-02f4-4537-acf8-303e9be7643f",
        "colab": {
          "base_uri": "https://localhost:8080/",
          "height": 143
        }
      },
      "source": [
        "print('Preparing embedding matrix....\\n')\n",
        "\n",
        "print ('Loading the pretrained models...')\n",
        "\n",
        "pretrained_model_paths = {'glove':'glove.42B.300d.txt','fasttext':'fasttext-wiki-news-300d-1M-subword.vec'}\n",
        "embeddings_indexes = {}\n",
        "\n",
        "for model, path in pretrained_model_paths.items():\n",
        "  embeddings_index = {}\n",
        "  print (\"Loading {} model's pretrained embeddings...\".format(model))\n",
        "  with open('/content/drive/My Drive/sentiment_classification/' + path) as f:\n",
        "      for line in f:\n",
        "          word, coefs = line.split(maxsplit=1)\n",
        "          coefs = np.fromstring(coefs, 'f', sep=' ')\n",
        "          embeddings_index[word] = coefs\n",
        "  embeddings_indexes[model] = embeddings_index\n",
        "  print('Found {} word vectors in this model.'.format(len(embeddings_index)))"
      ],
      "execution_count": 0,
      "outputs": [
        {
          "output_type": "stream",
          "text": [
            "Preparing embedding matrix....\n",
            "\n",
            "Loading the pretrained models...\n",
            "Loading glove model's pretrained embeddings...\n",
            "Found 1917494 word vectors in this model.\n",
            "Loading fasttext model's pretrained embeddings...\n",
            "Found 999995 word vectors in this model.\n"
          ],
          "name": "stdout"
        }
      ]
    },
    {
      "cell_type": "markdown",
      "metadata": {
        "id": "o28QQHQ2n0eF",
        "colab_type": "text"
      },
      "source": [
        "In this process, we prepared two embedding matrices for each model with respect to the training data. \n",
        "\n",
        "To do this, we first initialized a 2D matrix of size (Number of words, word vector size) with zeros and updated each row with the word vectors fetched from the large embedding matrix. The process is repeated for both the models."
      ]
    },
    {
      "cell_type": "code",
      "metadata": {
        "id": "xUzNwiIWgxmb",
        "colab_type": "code",
        "outputId": "091fb402-0abb-49cd-8cd5-c8fc8d5c4708",
        "colab": {
          "base_uri": "https://localhost:8080/",
          "height": 89
        }
      },
      "source": [
        "num_words = min(MAX_NUM_WORDS, len(train_dictionary) + 1)\n",
        "embedding_matrices = {}\n",
        "\n",
        "for model, embedding_index in embeddings_indexes.items():\n",
        "  print (\"Preparing {} model's embedding matrix...\".format(model))\n",
        "  embedding_matrix = np.zeros((num_words, EMBEDDING_DIM))\n",
        "  for word, i in train_dictionary.items():\n",
        "      if i >= MAX_NUM_WORDS:\n",
        "          continue\n",
        "      embedding_vector = embeddings_index.get(word)\n",
        "      if embedding_vector is not None:\n",
        "          embedding_matrix[i] = embedding_vector\n",
        "  print ('Embedding Matrix Created of size', embedding_matrix.shape)\n",
        "  embedding_matrices[model] = embedding_matrix"
      ],
      "execution_count": 0,
      "outputs": [
        {
          "output_type": "stream",
          "text": [
            "Preparing glove model's embedding matrix...\n",
            "Embedding Matrix Created of size (1335, 300)\n",
            "Preparing fasttext model's embedding matrix...\n",
            "Embedding Matrix Created of size (1335, 300)\n"
          ],
          "name": "stdout"
        }
      ]
    },
    {
      "cell_type": "markdown",
      "metadata": {
        "id": "4ahbh19aoSKL",
        "colab_type": "text"
      },
      "source": [
        "# Creating the Neural Network\n",
        "\n",
        "In this step we created the evaluation functions for multi-label classification."
      ]
    },
    {
      "cell_type": "code",
      "metadata": {
        "id": "fbK_IsvQdjH2",
        "colab_type": "code",
        "colab": {}
      },
      "source": [
        "def recall(y_true, y_pred):\n",
        "    true_positives = K.sum(K.round(K.clip(y_true * y_pred, 0, 1)))\n",
        "    possible_positives = K.sum(K.round(K.clip(y_true, 0, 1)))\n",
        "    recall = true_positives / (possible_positives + K.epsilon())\n",
        "    return recall\n",
        "\n",
        "def precision(y_true, y_pred):\n",
        "    true_positives = K.sum(K.round(K.clip(y_true * y_pred, 0, 1)))\n",
        "    predicted_positives = K.sum(K.round(K.clip(y_pred, 0, 1)))\n",
        "    precision = true_positives / (predicted_positives + K.epsilon())\n",
        "    return precision\n",
        "\n",
        "def accuracy(y_true, y_pred):\n",
        "    predicted_positives = K.sum(K.round(K.clip(y_pred, 0, 1)))\n",
        "    possible_positives = K.sum(K.round(K.clip(y_true, 0, 1)))\n",
        "    true_positives = K.sum(K.round(K.clip(y_true * y_pred, 0, 1)))\n",
        "    accuracy = (true_positives) / (possible_positives + predicted_positives + K.epsilon())\n",
        "    return accuracy\n",
        "\n",
        "def f1(y_true, y_pred):\n",
        "    \"\"\"Calculate the F1 score.\"\"\"\n",
        "    p = precision(y_true, y_pred)\n",
        "    r = recall(y_true, y_pred)\n",
        "    f1 = 2 * ((p * r) / (p + r))\n",
        "    return f1"
      ],
      "execution_count": 0,
      "outputs": []
    },
    {
      "cell_type": "markdown",
      "metadata": {
        "id": "uxURwhcHonAn",
        "colab_type": "text"
      },
      "source": [
        "We created an ensemble model using two branches of neural networks. The structure of the neural network is included in the seminar paper."
      ]
    },
    {
      "cell_type": "code",
      "metadata": {
        "id": "I-XiIEp0YJi1",
        "colab_type": "code",
        "outputId": "454dabf3-2aac-4c98-f89a-5d7761d71882",
        "colab": {
          "base_uri": "https://localhost:8080/",
          "height": 1000
        }
      },
      "source": [
        "print ('Building Model...')\n",
        "\n",
        "def get_model(embedding_model):\n",
        "  print (embedding_model.shape)\n",
        "  inputs = Input(shape=(2380,))\n",
        "  embedding_layer = Embedding(num_words,\n",
        "                              EMBEDDING_DIM,\n",
        "                              embeddings_initializer=Constant(embedding_model),\n",
        "                              input_length=1335,\n",
        "                              trainable=False)\n",
        "  model = Sequential()\n",
        "  model.add(embedding_layer)\n",
        "  # model.add(Conv1D(filters=128, kernel_size=5, activation='relu'))\n",
        "  # model.add(MaxPooling1D(pool_size=2))\n",
        "  model.add(Flatten())\n",
        "  model.add(Dense(256, activation='relu'))\n",
        "  model.add(Dropout(0.5))\n",
        "  model.add(Dense(256, activation='relu'))\n",
        "  model.add(Dense(n_classes, activation='sigmoid'))\n",
        "  print(model.summary())\n",
        "\n",
        "  return model\n",
        "\n",
        "fast_text_model = get_model(embedding_matrices['fasttext'])\n",
        "glove_model = get_model(embedding_matrices['glove'])\n",
        "\n",
        "inputs = Input(shape=(1335,))\n",
        "y1 = fast_text_model(inputs)\n",
        "y2 = glove_model(inputs)\n",
        "outputs = average([y1, y2])\n",
        "ensemble_model = Model(inputs=inputs, outputs=outputs)\n",
        "\n",
        "ensemble_model.compile(loss='binary_crossentropy', optimizer='adam', metrics=[accuracy, precision, recall, f1])"
      ],
      "execution_count": 0,
      "outputs": [
        {
          "output_type": "stream",
          "text": [
            "Building Model...\n",
            "(1335, 300)\n",
            "WARNING:tensorflow:From /usr/local/lib/python3.6/dist-packages/keras/backend/tensorflow_backend.py:66: The name tf.get_default_graph is deprecated. Please use tf.compat.v1.get_default_graph instead.\n",
            "\n",
            "WARNING:tensorflow:From /usr/local/lib/python3.6/dist-packages/keras/backend/tensorflow_backend.py:541: The name tf.placeholder is deprecated. Please use tf.compat.v1.placeholder instead.\n",
            "\n",
            "WARNING:tensorflow:From /usr/local/lib/python3.6/dist-packages/keras/backend/tensorflow_backend.py:4432: The name tf.random_uniform is deprecated. Please use tf.random.uniform instead.\n",
            "\n",
            "WARNING:tensorflow:From /usr/local/lib/python3.6/dist-packages/keras/backend/tensorflow_backend.py:148: The name tf.placeholder_with_default is deprecated. Please use tf.compat.v1.placeholder_with_default instead.\n",
            "\n",
            "WARNING:tensorflow:From /usr/local/lib/python3.6/dist-packages/keras/backend/tensorflow_backend.py:3733: calling dropout (from tensorflow.python.ops.nn_ops) with keep_prob is deprecated and will be removed in a future version.\n",
            "Instructions for updating:\n",
            "Please use `rate` instead of `keep_prob`. Rate should be set to `rate = 1 - keep_prob`.\n",
            "Model: \"sequential_1\"\n",
            "_________________________________________________________________\n",
            "Layer (type)                 Output Shape              Param #   \n",
            "=================================================================\n",
            "embedding_1 (Embedding)      (None, 1335, 300)         400500    \n",
            "_________________________________________________________________\n",
            "flatten_1 (Flatten)          (None, 400500)            0         \n",
            "_________________________________________________________________\n",
            "dense_1 (Dense)              (None, 256)               102528256 \n",
            "_________________________________________________________________\n",
            "dropout_1 (Dropout)          (None, 256)               0         \n",
            "_________________________________________________________________\n",
            "dense_2 (Dense)              (None, 256)               65792     \n",
            "_________________________________________________________________\n",
            "dense_3 (Dense)              (None, 90)                23130     \n",
            "=================================================================\n",
            "Total params: 103,017,678\n",
            "Trainable params: 102,617,178\n",
            "Non-trainable params: 400,500\n",
            "_________________________________________________________________\n",
            "None\n",
            "(1335, 300)\n",
            "Model: \"sequential_2\"\n",
            "_________________________________________________________________\n",
            "Layer (type)                 Output Shape              Param #   \n",
            "=================================================================\n",
            "embedding_2 (Embedding)      (None, 1335, 300)         400500    \n",
            "_________________________________________________________________\n",
            "flatten_2 (Flatten)          (None, 400500)            0         \n",
            "_________________________________________________________________\n",
            "dense_4 (Dense)              (None, 256)               102528256 \n",
            "_________________________________________________________________\n",
            "dropout_2 (Dropout)          (None, 256)               0         \n",
            "_________________________________________________________________\n",
            "dense_5 (Dense)              (None, 256)               65792     \n",
            "_________________________________________________________________\n",
            "dense_6 (Dense)              (None, 90)                23130     \n",
            "=================================================================\n",
            "Total params: 103,017,678\n",
            "Trainable params: 102,617,178\n",
            "Non-trainable params: 400,500\n",
            "_________________________________________________________________\n",
            "None\n",
            "WARNING:tensorflow:From /usr/local/lib/python3.6/dist-packages/keras/optimizers.py:793: The name tf.train.Optimizer is deprecated. Please use tf.compat.v1.train.Optimizer instead.\n",
            "\n",
            "WARNING:tensorflow:From /usr/local/lib/python3.6/dist-packages/keras/backend/tensorflow_backend.py:3657: The name tf.log is deprecated. Please use tf.math.log instead.\n",
            "\n",
            "WARNING:tensorflow:From /tensorflow-1.15.0/python3.6/tensorflow_core/python/ops/nn_impl.py:183: where (from tensorflow.python.ops.array_ops) is deprecated and will be removed in a future version.\n",
            "Instructions for updating:\n",
            "Use tf.where in 2.0, which has the same broadcast rule as np.where\n"
          ],
          "name": "stdout"
        }
      ]
    },
    {
      "cell_type": "markdown",
      "metadata": {
        "id": "F4g0w1ORpAeg",
        "colab_type": "text"
      },
      "source": [
        "# Training the neural network\n",
        "\n",
        "We trained the neural network in 4 epochs."
      ]
    },
    {
      "cell_type": "code",
      "metadata": {
        "id": "R0TzwW4oYJl1",
        "colab_type": "code",
        "outputId": "d9fa4cab-8d46-48ac-e599-8288926b71cb",
        "colab": {
          "base_uri": "https://localhost:8080/",
          "height": 379
        }
      },
      "source": [
        "print('Training Started...\\n')\n",
        "history  = ensemble_model.fit(train_data, train_labels,\n",
        "          batch_size=128,\n",
        "          epochs=4, shuffle=True,\n",
        "          validation_data=(validation_data, validation_labels))"
      ],
      "execution_count": 0,
      "outputs": [
        {
          "output_type": "stream",
          "text": [
            "Training Started...\n",
            "\n",
            "WARNING:tensorflow:From /usr/local/lib/python3.6/dist-packages/keras/backend/tensorflow_backend.py:1033: The name tf.assign_add is deprecated. Please use tf.compat.v1.assign_add instead.\n",
            "\n",
            "WARNING:tensorflow:From /usr/local/lib/python3.6/dist-packages/keras/backend/tensorflow_backend.py:1020: The name tf.assign is deprecated. Please use tf.compat.v1.assign instead.\n",
            "\n",
            "Train on 6992 samples, validate on 776 samples\n",
            "Epoch 1/4\n",
            "WARNING:tensorflow:From /usr/local/lib/python3.6/dist-packages/keras/backend/tensorflow_backend.py:216: The name tf.is_variable_initialized is deprecated. Please use tf.compat.v1.is_variable_initialized instead.\n",
            "\n",
            "WARNING:tensorflow:From /usr/local/lib/python3.6/dist-packages/keras/backend/tensorflow_backend.py:223: The name tf.variables_initializer is deprecated. Please use tf.compat.v1.variables_initializer instead.\n",
            "\n",
            "6992/6992 [==============================] - 17s 2ms/step - loss: 0.1294 - accuracy: 0.1149 - precision: 0.5758 - recall: 0.1558 - f1: nan - val_loss: 0.0518 - val_accuracy: 0.0528 - val_precision: 0.8022 - val_recall: 0.0569 - val_f1: 0.1056\n",
            "Epoch 2/4\n",
            "6992/6992 [==============================] - 6s 807us/step - loss: 0.0452 - accuracy: 0.1712 - precision: 0.8545 - recall: 0.2148 - f1: 0.3424 - val_loss: 0.0453 - val_accuracy: 0.1140 - val_precision: 0.9089 - val_recall: 0.1315 - val_f1: 0.2280\n",
            "Epoch 3/4\n",
            "6992/6992 [==============================] - 6s 811us/step - loss: 0.0367 - accuracy: 0.1796 - precision: 0.9261 - recall: 0.2241 - f1: 0.3592 - val_loss: 0.0438 - val_accuracy: 0.1480 - val_precision: 0.8845 - val_recall: 0.1800 - val_f1: 0.2960\n",
            "Epoch 4/4\n",
            "6992/6992 [==============================] - 6s 811us/step - loss: 0.0308 - accuracy: 0.1920 - precision: 0.9545 - recall: 0.2413 - f1: 0.3841 - val_loss: 0.0441 - val_accuracy: 0.1350 - val_precision: 0.9226 - val_recall: 0.1594 - val_f1: 0.2700\n"
          ],
          "name": "stdout"
        }
      ]
    },
    {
      "cell_type": "markdown",
      "metadata": {
        "id": "CdgsLzeqpIcC",
        "colab_type": "text"
      },
      "source": [
        "# Evaluating the model\n",
        "\n",
        "We evaluated the model in this step."
      ]
    },
    {
      "cell_type": "code",
      "metadata": {
        "id": "Qr26jEiFEtRm",
        "colab_type": "code",
        "outputId": "306d9322-ae6a-438a-cf09-b866c6fbbc63",
        "colab": {
          "base_uri": "https://localhost:8080/",
          "height": 161
        }
      },
      "source": [
        "print ('Evaluating Model...')\n",
        "score, test_acc, test_precision, test_recall, test_f1 = ensemble_model.evaluate(test_data, test_labels,\n",
        "                            batch_size=128)\n",
        "print('\\nTest score:', score)\n",
        "print('Test accuracy:', round(test_acc*100, 2))\n",
        "print('Test precision:', round(test_precision*100, 2))\n",
        "print('Test recall:', round(test_recall*100, 2))\n",
        "print('Test F1:', round(test_f1*100, 2))"
      ],
      "execution_count": 0,
      "outputs": [
        {
          "output_type": "stream",
          "text": [
            "Evaluating Model...\n",
            "3019/3019 [==============================] - 1s 231us/step\n",
            "\n",
            "Test score: 0.049000892321739264\n",
            "Test accuracy: 13.76\n",
            "Test precision: 82.03\n",
            "Test recall: 17.28\n",
            "Test F1: 27.52\n"
          ],
          "name": "stdout"
        }
      ]
    },
    {
      "cell_type": "code",
      "metadata": {
        "id": "k4VdrL1bTpvm",
        "colab_type": "code",
        "outputId": "4882129a-4f1a-4ea2-8f6f-586876b1d8cc",
        "colab": {
          "base_uri": "https://localhost:8080/",
          "height": 1000
        }
      },
      "source": [
        "# Plot training & validation loss values\n",
        "plt.plot(history.history['loss'])\n",
        "plt.plot(history.history['val_loss'])\n",
        "plt.xticks(fontsize=18)\n",
        "plt.yticks(fontsize=18)\n",
        "plt.ylabel('Loss', fontsize=18)\n",
        "plt.xlabel('Epoch', fontsize=18)\n",
        "plt.legend(['Train', 'Test'], loc='upper left', prop={'size': 20})\n",
        "plt.show()\n",
        "\n",
        "# Plot training & validation accuracy values\n",
        "plt.plot(history.history['precision'])\n",
        "plt.plot(history.history['val_precision'])\n",
        "plt.xticks(fontsize=18)\n",
        "plt.yticks(fontsize=18)\n",
        "plt.ylabel('Precision', fontsize=18)\n",
        "plt.xlabel('Epoch', fontsize=18)\n",
        "plt.legend(['Train', 'Test'], loc='upper left', prop={'size': 20})\n",
        "plt.show()\n",
        "\n",
        "# Plot training & validation loss values\n",
        "plt.plot(history.history['recall'])\n",
        "plt.plot(history.history['val_recall'])\n",
        "plt.xticks(fontsize=18)\n",
        "plt.yticks(fontsize=18)\n",
        "plt.ylabel('Recall', fontsize=18)\n",
        "plt.xlabel('Epoch', fontsize=18)\n",
        "plt.legend(['Train', 'Test'], loc='upper left', prop={'size': 20})\n",
        "plt.show()\n",
        "\n",
        "# Plot training & validation loss values\n",
        "plt.plot(history.history['f1'])\n",
        "plt.plot(history.history['val_f1'])\n",
        "plt.xticks(fontsize=18)\n",
        "plt.yticks(fontsize=18)\n",
        "plt.ylabel('F1-Score', fontsize=18)\n",
        "plt.xlabel('Epoch', fontsize=18)\n",
        "plt.legend(['Train', 'Test'], loc='upper left', prop={'size': 20})\n",
        "plt.show()"
      ],
      "execution_count": 0,
      "outputs": [
        {
          "output_type": "display_data",
          "data": {
            "image/png": "[encoded data removed]",
            "text/plain": [
              "<Figure size 576x396 with 1 Axes>"
            ]
          },
          "metadata": {
            "tags": []
          }
        },
        {
          "output_type": "display_data",
          "data": {
            "image/png": "[encoded data removed]",
            "text/plain": [
              "<Figure size 576x396 with 1 Axes>"
            ]
          },
          "metadata": {
            "tags": []
          }
        },
        {
          "output_type": "display_data",
          "data": {
            "image/png": "[encoded data removed]",
            "text/plain": [
              "<Figure size 576x396 with 1 Axes>"
            ]
          },
          "metadata": {
            "tags": []
          }
        },
        {
          "output_type": "display_data",
          "data": {
            "image/png": "[encoded data removed]",
            "text/plain": [
              "<Figure size 576x396 with 1 Axes>"
            ]
          },
          "metadata": {
            "tags": []
          }
        }
      ]
    },
    {
      "cell_type": "code",
      "metadata": {
        "id": "VtDGtEIG505l",
        "colab_type": "code",
        "outputId": "30975f6e-baea-4d87-8314-2030b3cf4c7a",
        "colab": {
          "base_uri": "https://localhost:8080/",
          "height": 71
        }
      },
      "source": [
        "print (\"Macro Recall: \", np.mean(history.history['val_recall']))\n",
        "# print (\"Macro Accuracy: \", np.mean(history.history['val_accuracy_metric']))\n",
        "print (\"Macro Precision: \", np.mean(history.history['val_precision']))\n",
        "print (\"Macro F1: \", np.mean(history.history['val_f1']))"
      ],
      "execution_count": 0,
      "outputs": [
        {
          "output_type": "stream",
          "text": [
            "Macro Recall:  0.1319456458014926\n",
            "Macro Precision:  0.8795550090750468\n",
            "Macro F1:  0.22490706548248368\n"
          ],
          "name": "stdout"
        }
      ]
    }
  ]
}